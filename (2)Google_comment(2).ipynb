{
 "cells": [
  {
   "cell_type": "code",
   "execution_count": 3,
   "metadata": {},
   "outputs": [],
   "source": [
    "from selenium import webdriver\n",
    "from selenium.webdriver.common.by import By\n",
    "import time"
   ]
  },
  {
   "cell_type": "code",
   "execution_count": 4,
   "metadata": {},
   "outputs": [
    {
     "name": "stderr",
     "output_type": "stream",
     "text": [
      "/var/folders/c0/xf74xblj0mjg97lcm0jrxxcm0000gn/T/ipykernel_8624/144335302.py:2: DeprecationWarning: executable_path has been deprecated, please pass in a Service object\n",
      "  browser = webdriver.Chrome(executable_path=driver_path)\n"
     ]
    }
   ],
   "source": [
    "driver_path = \"/Users/b31/Documents/class/chromedriver\"\n",
    "browser = webdriver.Chrome(executable_path=driver_path)"
   ]
  },
  {
   "cell_type": "code",
   "execution_count": 5,
   "metadata": {},
   "outputs": [
    {
     "name": "stdout",
     "output_type": "stream",
     "text": [
      "https://play.google.com/store/search?q=배달의민족&c=apps\n"
     ]
    }
   ],
   "source": [
    "# 앱 검색\n",
    "app_name = input(\"댓글을 가져오고자 하는 앱 이름을 입력하세요\")\n",
    "\n",
    "url = \"https://play.google.com/store/search?q={}&c=apps\"\n",
    "\n",
    "search_url = url.format(app_name)\n",
    "print(search_url)\n",
    "browser.get(search_url)"
   ]
  },
  {
   "cell_type": "code",
   "execution_count": 6,
   "metadata": {},
   "outputs": [],
   "source": [
    "# 앱 링크로 이동\n",
    "app_url = browser.find_element(By.CLASS_NAME, 'Qfxief').get_attribute('href')\n",
    "browser.get(app_url)"
   ]
  },
  {
   "cell_type": "code",
   "execution_count": 7,
   "metadata": {},
   "outputs": [],
   "source": [
    "# 댓글 클릭 => 모달 창이 뜬다.\n",
    "browser.find_element(By.XPATH, '//*[@id=\"yDmH0d\"]/c-wiz[2]/div/div/div[1]/div[2]/div/div[1]/c-wiz[4]/section/header/div/div[2]/button').click()"
   ]
  },
  {
   "cell_type": "code",
   "execution_count": 8,
   "metadata": {},
   "outputs": [],
   "source": [
    "# 모달창 클릭 (목적: 스크롤을 하기 위해서)\n",
    "browser.find_element(By.CLASS_NAME, 'fysCi').click()"
   ]
  },
  {
   "cell_type": "code",
   "execution_count": 9,
   "metadata": {},
   "outputs": [],
   "source": [
    "modal = browser.find_element(By.CLASS_NAME, 'fysCi')\n",
    "for i in range(3):\n",
    "    browser.execute_script(\"arguments[0].scrollTo(0, arguments[0].scrollHeight)\", modal)\n",
    "    time.sleep(3)"
   ]
  },
  {
   "cell_type": "code",
   "execution_count": 10,
   "metadata": {},
   "outputs": [
    {
     "name": "stdout",
     "output_type": "stream",
     "text": [
      "P\n",
      "하지윤\n",
      "쪼망이\n",
      "조서윤\n",
      "GY Jeong\n",
      "Jinping the Pooh\n",
      "임태수 (눈꽃)\n",
      "진이 JIN TUBE\n",
      "ᄋᄌ\n"
     ]
    }
   ],
   "source": [
    "# 댓글 가져오는 코드\n",
    "reviews = browser.find_elements(By.CLASS_NAME, 'RHo1pe')\n",
    "\n",
    "num_review = 0\n",
    "for review in reviews:\n",
    "    num_review += 1\n",
    "    if num_review == 10:\n",
    "        break\n",
    "\n",
    "    user_name = review.find_element(By.CLASS_NAME, 'X5PpBb').text\n",
    "    print(user_name)"
   ]
  },
  {
   "cell_type": "code",
   "execution_count": null,
   "metadata": {},
   "outputs": [],
   "source": []
  }
 ],
 "metadata": {
  "kernelspec": {
   "display_name": "Python 3",
   "language": "python",
   "name": "python3"
  },
  "language_info": {
   "codemirror_mode": {
    "name": "ipython",
    "version": 3
   },
   "file_extension": ".py",
   "mimetype": "text/x-python",
   "name": "python",
   "nbconvert_exporter": "python",
   "pygments_lexer": "ipython3",
   "version": "3.9.16"
  },
  "orig_nbformat": 4,
  "vscode": {
   "interpreter": {
    "hash": "6ecdebf77f2ee3a47348d003f751c63e810ca996c1c68d1179f338200fa83b34"
   }
  }
 },
 "nbformat": 4,
 "nbformat_minor": 2
}
